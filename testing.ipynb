{
 "metadata": {
  "language_info": {
   "codemirror_mode": {
    "name": "ipython",
    "version": 3
   },
   "file_extension": ".py",
   "mimetype": "text/x-python",
   "name": "python",
   "nbconvert_exporter": "python",
   "pygments_lexer": "ipython3",
   "version": "3.8.5"
  },
  "orig_nbformat": 2,
  "kernelspec": {
   "name": "python3",
   "display_name": "Python 3.8.5 32-bit ('base': conda)"
  },
  "interpreter": {
   "hash": "8fb718920f93849d4d3945724dc0b5d4d10e311a0670234b5d0b94b0e506538a"
  }
 },
 "nbformat": 4,
 "nbformat_minor": 2,
 "cells": [
  {
   "cell_type": "code",
   "execution_count": 1,
   "metadata": {},
   "outputs": [],
   "source": [
    "# Import python packages\n",
    "import pandas as pd\n",
    "import pyodbc\n",
    "import requests\n",
    "import time\n",
    "import datetime\n",
    "import sys"
   ]
  },
  {
   "cell_type": "code",
   "execution_count": 2,
   "metadata": {},
   "outputs": [],
   "source": [
    "def get_sym_data(ticker_str):\n",
    "    \n",
    "    API_URL = \"https://www.alphavantage.co/query\"\n",
    "\n",
    "    #compact - first 100 lines\n",
    "    #full - returns all 20 years of data\n",
    "\n",
    "    t_data = {\n",
    "        \"function\": \"OVERVIEW\",\n",
    "        \"symbol\": ticker_str,\n",
    "        \"outputsize\": \"full\",\n",
    "        \"datatype\": \"json\",\n",
    "        \"apikey\": \"L4W04J8F48N8J7OU\"\n",
    "        }\n",
    "\n",
    "    response = requests.get(API_URL, t_data)\n",
    "    response_json = response.json() # maybe redundant\n",
    "\n",
    "    data = pd.DataFrame.from_dict(response_json, orient= 'index').sort_index(axis=1) \n",
    "    \n",
    "    return data"
   ]
  },
  {
   "cell_type": "code",
   "execution_count": 16,
   "metadata": {},
   "outputs": [],
   "source": [
    "data = get_sym_data(\"MSFT\")"
   ]
  },
  {
   "cell_type": "code",
   "execution_count": 3,
   "metadata": {},
   "outputs": [
    {
     "output_type": "error",
     "ename": "NameError",
     "evalue": "name 'data' is not defined",
     "traceback": [
      "\u001b[1;31m---------------------------------------------------------------------------\u001b[0m",
      "\u001b[1;31mNameError\u001b[0m                                 Traceback (most recent call last)",
      "\u001b[1;32m<ipython-input-3-b1fa66b0ac4c>\u001b[0m in \u001b[0;36m<module>\u001b[1;34m\u001b[0m\n\u001b[0;32m      1\u001b[0m \u001b[1;31m#x = data[data.index == '52WeekHigh'][0]\u001b[0m\u001b[1;33m\u001b[0m\u001b[1;33m\u001b[0m\u001b[1;33m\u001b[0m\u001b[0m\n\u001b[0;32m      2\u001b[0m \u001b[1;31m#x = data[data.index == '52WeekHigh']['52WeekHigh']\u001b[0m\u001b[1;33m\u001b[0m\u001b[1;33m\u001b[0m\u001b[1;33m\u001b[0m\u001b[0m\n\u001b[1;32m----> 3\u001b[1;33m \u001b[0my\u001b[0m \u001b[1;33m=\u001b[0m \u001b[0mdata\u001b[0m\u001b[1;33m.\u001b[0m\u001b[0mT\u001b[0m\u001b[1;33m\u001b[0m\u001b[1;33m\u001b[0m\u001b[0m\n\u001b[0m\u001b[0;32m      4\u001b[0m \u001b[0mz\u001b[0m \u001b[1;33m=\u001b[0m \u001b[0my\u001b[0m\u001b[1;33m[\u001b[0m\u001b[1;34m'52WeekHigh'\u001b[0m\u001b[1;33m]\u001b[0m\u001b[1;33m[\u001b[0m\u001b[1;36m0\u001b[0m\u001b[1;33m]\u001b[0m\u001b[1;33m\u001b[0m\u001b[1;33m\u001b[0m\u001b[0m\n\u001b[0;32m      5\u001b[0m \u001b[0mh\u001b[0m \u001b[1;33m=\u001b[0m \u001b[0my\u001b[0m\u001b[1;33m[\u001b[0m\u001b[1;34m'52WeekLow'\u001b[0m\u001b[1;33m]\u001b[0m\u001b[1;33m[\u001b[0m\u001b[1;36m0\u001b[0m\u001b[1;33m]\u001b[0m\u001b[1;33m\u001b[0m\u001b[1;33m\u001b[0m\u001b[0m\n",
      "\u001b[1;31mNameError\u001b[0m: name 'data' is not defined"
     ]
    }
   ],
   "source": [
    "#x = data[data.index == '52WeekHigh'][0]\n",
    "#x = data[data.index == '52WeekHigh']['52WeekHigh']\n",
    "y = data.T\n",
    "z = y['52WeekHigh'][0]\n",
    "h = y['52WeekLow'][0]\n",
    "print([z,h])\n",
    "# data.to_csv('#WHAT.csv')"
   ]
  },
  {
   "cell_type": "code",
   "execution_count": 26,
   "metadata": {},
   "outputs": [],
   "source": [
    "def get_inc_data(ticker_str):\n",
    "    \n",
    "    API_URL = \"https://www.alphavantage.co/query\"\n",
    "\n",
    "    #compact - first 100 lines\n",
    "    #full - returns all 20 years of data\n",
    "\n",
    "    t_data = {\n",
    "        \"function\": \"INCOME_STATEMENT\",\n",
    "        \"symbol\": ticker_str,\n",
    "        \"outputsize\": \"full\",\n",
    "        \"datatype\": \"json\",\n",
    "        \"apikey\": \"L4W04J8F48N8J7OU\"\n",
    "        }\n",
    "\n",
    "    response = requests.get(API_URL, t_data)\n",
    "    response_json = response.json() # maybe redundant\n",
    "\n",
    "    data = pd.DataFrame.from_dict(response_json['annualReports']).sort_index(axis=1) \n",
    "\n",
    "    return data"
   ]
  },
  {
   "cell_type": "code",
   "execution_count": 27,
   "metadata": {},
   "outputs": [],
   "source": [
    "data = get_inc_data(\"AAPL\")"
   ]
  },
  {
   "cell_type": "code",
   "execution_count": 28,
   "metadata": {
    "tags": []
   },
   "outputs": [],
   "source": [
    "data.to_csv('temp/income_statement.csv')"
   ]
  },
  {
   "cell_type": "code",
   "execution_count": 31,
   "metadata": {},
   "outputs": [],
   "source": [
    "def get_bal_data(ticker_str):\n",
    "    \n",
    "    API_URL = \"https://www.alphavantage.co/query\"\n",
    "\n",
    "    #compact - first 100 lines\n",
    "    #full - returns all 20 years of data\n",
    "\n",
    "    t_data = {\n",
    "        \"function\": \"BALANCE_SHEET\",\n",
    "        \"symbol\": ticker_str,\n",
    "        \"outputsize\": \"full\",\n",
    "        \"datatype\": \"json\",\n",
    "        \"apikey\": \"L4W04J8F48N8J7OU\"\n",
    "        }\n",
    "\n",
    "    response = requests.get(API_URL, t_data)\n",
    "    response_json = response.json() # maybe redundant\n",
    "\n",
    "    data = pd.DataFrame.from_dict(response_json['annualReports']).sort_index(axis=1) \n",
    "\n",
    "    return data"
   ]
  },
  {
   "cell_type": "code",
   "execution_count": 32,
   "metadata": {},
   "outputs": [],
   "source": [
    "data = get_bal_data(\"AAPL\")"
   ]
  },
  {
   "cell_type": "code",
   "execution_count": 33,
   "metadata": {},
   "outputs": [],
   "source": [
    "data.to_csv('temp/Balance_Sheet.csv')"
   ]
  },
  {
   "cell_type": "code",
   "execution_count": 35,
   "metadata": {},
   "outputs": [],
   "source": [
    "def get_cash_data(ticker_str):\n",
    "    \n",
    "    API_URL = \"https://www.alphavantage.co/query\"\n",
    "\n",
    "    #compact - first 100 lines\n",
    "    #full - returns all 20 years of data\n",
    "\n",
    "    t_data = {\n",
    "        \"function\": \"CASH_FLOW\",\n",
    "        \"symbol\": ticker_str,\n",
    "        \"outputsize\": \"full\",\n",
    "        \"datatype\": \"json\",\n",
    "        \"apikey\": \"L4W04J8F48N8J7OU\"\n",
    "        }\n",
    "\n",
    "    response = requests.get(API_URL, t_data)\n",
    "    response_json = response.json() # maybe redundant\n",
    "\n",
    "    data = pd.DataFrame.from_dict(response_json['annualReports']).sort_index(axis=1) \n",
    "\n",
    "    return data"
   ]
  },
  {
   "cell_type": "code",
   "execution_count": 36,
   "metadata": {},
   "outputs": [],
   "source": [
    "data = get_cash_data(\"AAPL\")"
   ]
  },
  {
   "cell_type": "code",
   "execution_count": 37,
   "metadata": {},
   "outputs": [],
   "source": [
    "data.to_csv('temp/cash_flow.csv')"
   ]
  },
  {
   "cell_type": "code",
   "execution_count": 38,
   "metadata": {},
   "outputs": [],
   "source": [
    "overview = pd.read_csv('temp/Overview.csv')\n",
    "income_statement = pd.read_csv('temp/income_statement.csv')\n",
    "balance_sheet = pd.read_csv('temp/Balance_Sheet.csv')\n",
    "cash_flow = pd.read_csv('temp/cash_flow.csv')"
   ]
  },
  {
   "cell_type": "code",
   "execution_count": 78,
   "metadata": {},
   "outputs": [],
   "source": [
    "#intrinsic value\n",
    "overview.columns = ['Attribute','Value']\n",
    "#EPS\n",
    "EPS = overview[overview['Attribute'] == 'EPS']['Value']\n",
    "EPS.reset_index(drop=True,inplace=True)\n",
    "EPS = EPS[0]\n",
    "#Trailing and Forward PE\n",
    "TPE = overview[overview['Attribute'] == 'TrailingPE']['Value']\n",
    "TPE.reset_index(drop=True,inplace=True)\n",
    "TPE = TPE[0]\n",
    "FPE = overview[overview['Attribute'] == 'ForwardPE']['Value']\n",
    "FPE.reset_index(drop=True,inplace=True)\n",
    "FPE = FPE[0]\n",
    "#Growth\n",
    "TPE = float(TPE)\n",
    "FPE = float(FPE)\n",
    "Grwth = (TPE - FPE) / TPE \n",
    "#10 year look ahead price\n",
    "EPS = float(EPS)\n",
    "price2 = EPS * (1 + Grwth) * ((TPE + FPE)/2) \n",
    "price1 = EPS * (1 + Grwth) * TPE \n",
    "descriptions = ['EPS','Trailing PE','Forward PE','Earnings Growth Rate','Projected PE','Price at Current PE','Price at Proj. PE']\n",
    "vals = [EPS,TPE,FPE,round(Grwth*100,2),(TPE+FPE)/2,price1,price2]\n",
    "iv_data = [descriptions,vals]\n",
    "iv_data = pd.DataFrame(iv_data).T"
   ]
  },
  {
   "cell_type": "code",
   "execution_count": 80,
   "metadata": {},
   "outputs": [
    {
     "output_type": "execute_result",
     "data": {
      "text/plain": [
       "                      0        1\n",
       "2            Forward PE    28.49\n",
       "3  Earnings Growth Rate    13.76\n",
       "4          Projected PE  30.7631\n",
       "5   Price at Current PE  138.567\n",
       "6     Price at Proj. PE  129.033"
      ],
      "text/html": "<div>\n<style scoped>\n    .dataframe tbody tr th:only-of-type {\n        vertical-align: middle;\n    }\n\n    .dataframe tbody tr th {\n        vertical-align: top;\n    }\n\n    .dataframe thead th {\n        text-align: right;\n    }\n</style>\n<table border=\"1\" class=\"dataframe\">\n  <thead>\n    <tr style=\"text-align: right;\">\n      <th></th>\n      <th>0</th>\n      <th>1</th>\n    </tr>\n  </thead>\n  <tbody>\n    <tr>\n      <th>2</th>\n      <td>Forward PE</td>\n      <td>28.49</td>\n    </tr>\n    <tr>\n      <th>3</th>\n      <td>Earnings Growth Rate</td>\n      <td>13.76</td>\n    </tr>\n    <tr>\n      <th>4</th>\n      <td>Projected PE</td>\n      <td>30.7631</td>\n    </tr>\n    <tr>\n      <th>5</th>\n      <td>Price at Current PE</td>\n      <td>138.567</td>\n    </tr>\n    <tr>\n      <th>6</th>\n      <td>Price at Proj. PE</td>\n      <td>129.033</td>\n    </tr>\n  </tbody>\n</table>\n</div>"
     },
     "metadata": {},
     "execution_count": 80
    }
   ],
   "source": [
    "iv_data.tail()"
   ]
  },
  {
   "cell_type": "code",
   "execution_count": 101,
   "metadata": {},
   "outputs": [
    {
     "output_type": "stream",
     "name": "stdout",
     "text": [
      "0.8300000000000001\n"
     ]
    }
   ],
   "source": [
    "#WACC\n",
    "EBIT = income_statement.ebit[0]\n",
    "EBIT = float(EBIT)\n",
    "interestExpense = income_statement.interestExpense[0]\n",
    "interestExpense = float(interestExpense) * -1\n",
    "interest_coverage = EBIT / interestExpense\n",
    "\n",
    "estimated_spread = {8.5  : 0.68,\n",
    "                    6.5  : 0.78,\n",
    "                    5.5  : 0.98,\n",
    "                    4.25 : 1.08,\n",
    "                    3    : 1.22,\n",
    "                    2.5  : 1.56,\n",
    "                    2.25 : 1.00,\n",
    "                    2    : 2.40,\n",
    "                    1.75 : 3.51,\n",
    "                    1.5  : 4.21,\n",
    "                    1.25 : 5.15,\n",
    "                    0.8  : 8.20}\n",
    "\n",
    "ind = 0\n",
    "\n",
    "for key, value in estimated_spread.items():\n",
    "    \n",
    "    if ind == 0:\n",
    "        if interest_coverage >= key:\n",
    "            spread = value\n",
    "            ind = 1\n",
    "\n",
    "rf = 0.15\n",
    "kd = rf + spread\n",
    "print(kd)"
   ]
  },
  {
   "cell_type": "code",
   "execution_count": 3,
   "metadata": {},
   "outputs": [
    {
     "output_type": "stream",
     "name": "stdout",
     "text": [
      "<!DOCTYPE html>\n<html>\n<head>\n<title>Stock Screener</title>\n</head>\n<body>\n\n<meta name=\"viewport\" content=\"width=device-width, initial-scale=1\">\n\n<link rel=\"stylesheet\" href=\"https://www.w3schools.com/w3css/4/w3.css\">\n\n<div class=\"w3-bar w3-border w3-green\">\n  <a href=\"Home\" class=\"w3-bar-item w3-button w3-padding-16\">Home</a>\n  <a href=\"About\" class=\"w3-bar-item w3-button w3-padding-16\">About</a>\n  <a href=\"https://www.w3schools.com/w3css/default.asp\" class=\"w3-bar-item w3-button w3-padding-16\">W3 Schools CSS</a>\n  <a href=\"mailto:bensamborn@comcast.net\" class=\"w3-bar-item w3-button w3-padding-16\">Email</a>\n  <form action=\"/Overview\" method=\"post\">\n  <input type=\"text\" class=\"w3-bar-item w3-input\" placeholder=\"Search..\" width=\"250\" height=\"75\">\n</div>\n"
     ]
    }
   ],
   "source": [
    "navBar = open('templates\\\\navBar.html', 'r')\n",
    "navBar = navBar.read()\n",
    "print(navBar)"
   ]
  },
  {
   "cell_type": "code",
   "execution_count": 4,
   "metadata": {},
   "outputs": [],
   "source": [
    "def getBalance(ticker_str):\n",
    "    \n",
    "    API_URL = \"https://www.alphavantage.co/query\"\n",
    "\n",
    "    #compact - first 100 lines\n",
    "    #full - returns all 20 years of data\n",
    "\n",
    "    t_data = {\n",
    "        \"function\": \"BALANCE_SHEET\",\n",
    "        \"symbol\": ticker_str,\n",
    "        \"outputsize\": \"full\",\n",
    "        \"datatype\": \"json\",\n",
    "        \"apikey\": \"L4W04J8F48N8J7OU\"\n",
    "        }\n",
    "\n",
    "    response = requests.get(API_URL, t_data)\n",
    "    response_json = response.json() # maybe redundant\n",
    "\n",
    "    data = pd.DataFrame.from_dict(response_json['annualReports']).sort_index(axis=1) \n",
    "\n",
    "    data = data.transpose()\n",
    "\n",
    "    return data\n"
   ]
  },
  {
   "cell_type": "code",
   "execution_count": 7,
   "metadata": {},
   "outputs": [
    {
     "output_type": "stream",
     "name": "stdout",
     "text": [
      "<class 'pandas.core.frame.DataFrame'>\n"
     ]
    }
   ],
   "source": [
    "data = getBalance(\"AAPL\")\n",
    "print(type(data))"
   ]
  },
  {
   "cell_type": "code",
   "execution_count": null,
   "metadata": {},
   "outputs": [],
   "source": []
  }
 ]
}